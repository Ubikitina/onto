{
 "cells": [
  {
   "cell_type": "markdown",
   "id": "8b4040c2",
   "metadata": {},
   "source": [
    "# Basic usage of Ontology in DeepOnto\n",
    "## Loading Ontology functionality from DeepOnto\n",
    "First we will load the Ontology functionality and allocate the memory:"
   ]
  },
  {
   "cell_type": "code",
   "execution_count": 1,
   "id": "148832f8",
   "metadata": {},
   "outputs": [
    {
     "data": {
      "text/plain": [
       "3"
      ]
     },
     "execution_count": 1,
     "metadata": {},
     "output_type": "execute_result"
    }
   ],
   "source": [
    "1+2"
   ]
  },
  {
   "cell_type": "code",
   "execution_count": 2,
   "id": "5759a218",
   "metadata": {},
   "outputs": [
    {
     "name": "stdout",
     "output_type": "stream",
     "text": [
      "Please enter the maximum memory located to JVM [8g]: 16g\n",
      "\n",
      "16g maximum memory allocated to JVM.\n",
      "JVM started successfully.\n"
     ]
    }
   ],
   "source": [
    "from deeponto.onto import Ontology"
   ]
  },
  {
   "cell_type": "markdown",
   "id": "90528da2",
   "metadata": {},
   "source": [
    "## Loading our own ontology\n",
    "Then we will load our example ontology:"
   ]
  },
  {
   "cell_type": "code",
   "execution_count": 3,
   "id": "c317945d",
   "metadata": {},
   "outputs": [],
   "source": [
    "doid = Ontology(\"/home/maialen/Documents/ontos/doid.owl\")"
   ]
  },
  {
   "cell_type": "markdown",
   "id": "c4c70bf2",
   "metadata": {},
   "source": [
    "## Accessing ontology entities\n",
    "**Search by URI:**\n",
    "\n",
    "We can get an ontology entity by searching it by URI:"
   ]
  },
  {
   "cell_type": "code",
   "execution_count": 5,
   "id": "f2a4a3f7",
   "metadata": {
    "scrolled": true
   },
   "outputs": [
    {
     "data": {
      "text/plain": [
       "<java object 'uk.ac.manchester.cs.owl.owlapi.OWLClassImpl'>"
      ]
     },
     "execution_count": 5,
     "metadata": {},
     "output_type": "execute_result"
    }
   ],
   "source": [
    "doid.get_owl_object_from_iri(\"http://purl.obolibrary.org/obo/DOID_9969\")"
   ]
  },
  {
   "cell_type": "markdown",
   "id": "360a9c13",
   "metadata": {},
   "source": [
    "**Retrieve Parents:**\n",
    "\n",
    "Then, we can retrieve the parents of a given class: (I am getting an error here...)"
   ]
  },
  {
   "cell_type": "code",
   "execution_count": 7,
   "id": "8f309005",
   "metadata": {},
   "outputs": [
    {
     "ename": "AttributeError",
     "evalue": "'Ontology' object has no attribute 'get_asserted_parents'",
     "output_type": "error",
     "traceback": [
      "\u001b[0;31m---------------------------------------------------------------------------\u001b[0m",
      "\u001b[0;31mAttributeError\u001b[0m                            Traceback (most recent call last)",
      "Cell \u001b[0;32mIn[7], line 2\u001b[0m\n\u001b[1;32m      1\u001b[0m objectDoid9969 \u001b[38;5;241m=\u001b[39m doid\u001b[38;5;241m.\u001b[39mget_owl_object_from_iri(\u001b[38;5;124m\"\u001b[39m\u001b[38;5;124mhttp://purl.obolibrary.org/obo/DOID_9969\u001b[39m\u001b[38;5;124m\"\u001b[39m)\n\u001b[0;32m----> 2\u001b[0m parent_onto \u001b[38;5;241m=\u001b[39m \u001b[43mdoid\u001b[49m\u001b[38;5;241;43m.\u001b[39;49m\u001b[43mget_asserted_parents\u001b[49m(objectDoid9969)\n",
      "\u001b[0;31mAttributeError\u001b[0m: 'Ontology' object has no attribute 'get_asserted_parents'"
     ]
    }
   ],
   "source": [
    "objectDoid9969 = doid.get_owl_object_from_iri(\"http://purl.obolibrary.org/obo/DOID_9969\")\n",
    "parent_onto = doid.get_asserted_parents(objectDoid9969)"
   ]
  },
  {
   "cell_type": "markdown",
   "id": "8893f971",
   "metadata": {},
   "source": [
    "**Retrieve Children:**\n",
    "\n",
    "We can also retrieve the children of a given class: (I am also getting an error here)"
   ]
  },
  {
   "cell_type": "code",
   "execution_count": 8,
   "id": "38159730",
   "metadata": {},
   "outputs": [
    {
     "ename": "AttributeError",
     "evalue": "'Ontology' object has no attribute 'get_asserted_children'",
     "output_type": "error",
     "traceback": [
      "\u001b[0;31m---------------------------------------------------------------------------\u001b[0m",
      "\u001b[0;31mAttributeError\u001b[0m                            Traceback (most recent call last)",
      "Cell \u001b[0;32mIn[8], line 1\u001b[0m\n\u001b[0;32m----> 1\u001b[0m \u001b[43mdoid\u001b[49m\u001b[38;5;241;43m.\u001b[39;49m\u001b[43mget_asserted_children\u001b[49m(doid\u001b[38;5;241m.\u001b[39mget_owl_object_from_iri(\u001b[38;5;124m\"\u001b[39m\u001b[38;5;124mhttp://purl.obolibrary.org/obo/DOID_9969\u001b[39m\u001b[38;5;124m\"\u001b[39m))\n",
      "\u001b[0;31mAttributeError\u001b[0m: 'Ontology' object has no attribute 'get_asserted_children'"
     ]
    }
   ],
   "source": [
    "doid.get_asserted_children(doid.get_owl_object_from_iri(\"http://purl.obolibrary.org/obo/DOID_9969\"))"
   ]
  },
  {
   "cell_type": "markdown",
   "id": "94ef43c3",
   "metadata": {},
   "source": [
    "**Get object annotations:**\n",
    "\n",
    "Such as Label:"
   ]
  },
  {
   "cell_type": "code",
   "execution_count": 9,
   "id": "632dc9f5",
   "metadata": {},
   "outputs": [
    {
     "data": {
      "text/plain": [
       "{'carotenemia'}"
      ]
     },
     "execution_count": 9,
     "metadata": {},
     "output_type": "execute_result"
    }
   ],
   "source": [
    "# note that annotations with no language tags are deemed as in English (\"en\")\n",
    "doid.get_owl_object_annotations(\n",
    "    doid.get_owl_object_from_iri(\"http://purl.obolibrary.org/obo/DOID_9969\"),\n",
    "    annotation_property_iri='http://www.w3.org/2000/01/rdf-schema#label',\n",
    "    annotation_language_tag=None,\n",
    "    apply_lowercasing=False,\n",
    "    normalise_identifiers=False\n",
    ")"
   ]
  },
  {
   "cell_type": "markdown",
   "id": "5cf05a86",
   "metadata": {},
   "source": [
    "## Ontology reasoning\n",
    "In this section we will try to use the reasoner, which refers to the HermiT reasoning tool.\n",
    "\n",
    "**Inferring Super- and Sub Entities:**\n",
    "\n",
    "To get the super-entities (a super-class or a super-property) of an entity, do the following:\n"
   ]
  },
  {
   "cell_type": "code",
   "execution_count": 18,
   "id": "60730733",
   "metadata": {},
   "outputs": [
    {
     "ename": "AttributeError",
     "evalue": "'OntologyReasoner' object has no attribute 'get_inferred_super_entities'",
     "output_type": "error",
     "traceback": [
      "\u001b[0;31m---------------------------------------------------------------------------\u001b[0m",
      "\u001b[0;31mAttributeError\u001b[0m                            Traceback (most recent call last)",
      "Cell \u001b[0;32mIn[18], line 2\u001b[0m\n\u001b[1;32m      1\u001b[0m doid_class \u001b[38;5;241m=\u001b[39m doid\u001b[38;5;241m.\u001b[39mget_owl_object_from_iri(\u001b[38;5;124m\"\u001b[39m\u001b[38;5;124mhttp://purl.obolibrary.org/obo/DOID_9969\u001b[39m\u001b[38;5;124m\"\u001b[39m)\n\u001b[0;32m----> 2\u001b[0m \u001b[43mdoid\u001b[49m\u001b[38;5;241;43m.\u001b[39;49m\u001b[43mreasoner\u001b[49m\u001b[38;5;241;43m.\u001b[39;49m\u001b[43mget_inferred_super_entities\u001b[49m(doid_class, direct\u001b[38;5;241m=\u001b[39m\u001b[38;5;28;01mFalse\u001b[39;00m) \n",
      "\u001b[0;31mAttributeError\u001b[0m: 'OntologyReasoner' object has no attribute 'get_inferred_super_entities'"
     ]
    }
   ],
   "source": [
    "doid_class = doid.get_owl_object_from_iri(\"http://purl.obolibrary.org/obo/DOID_9969\")\n",
    "doid.reasoner.get_inferred_super_entities(doid_class, direct=False) "
   ]
  },
  {
   "cell_type": "markdown",
   "id": "fde7980c",
   "metadata": {},
   "source": [
    "**Inferring Class Instances:**\n",
    "\n",
    "To retrieve the entailed instances of a class:\n"
   ]
  },
  {
   "cell_type": "code",
   "execution_count": 19,
   "id": "41ccc351",
   "metadata": {},
   "outputs": [
    {
     "data": {
      "text/plain": [
       "[]"
      ]
     },
     "execution_count": 19,
     "metadata": {},
     "output_type": "execute_result"
    }
   ],
   "source": [
    "doid.reasoner.instances_of(doid_class)"
   ]
  },
  {
   "cell_type": "markdown",
   "id": "76167a34",
   "metadata": {},
   "source": [
    "**Checking Entailment**\n",
    "\n",
    "The implemented reasoner also supports several entailment checks for subsumption, disjointness, and so on. For example:"
   ]
  },
  {
   "cell_type": "code",
   "execution_count": 20,
   "id": "181a490b",
   "metadata": {},
   "outputs": [
    {
     "ename": "NameError",
     "evalue": "name 'doid_potential_sub_entity' is not defined",
     "output_type": "error",
     "traceback": [
      "\u001b[0;31m---------------------------------------------------------------------------\u001b[0m",
      "\u001b[0;31mNameError\u001b[0m                                 Traceback (most recent call last)",
      "Cell \u001b[0;32mIn[20], line 1\u001b[0m\n\u001b[0;32m----> 1\u001b[0m doid\u001b[38;5;241m.\u001b[39mreasoner\u001b[38;5;241m.\u001b[39mcheck_subsumption(\u001b[43mdoid_potential_sub_entity\u001b[49m, doid_potential_super_entity)\n",
      "\u001b[0;31mNameError\u001b[0m: name 'doid_potential_sub_entity' is not defined"
     ]
    }
   ],
   "source": [
    "doid.reasoner.check_subsumption(doid_potential_sub_entity, doid_potential_super_entity)"
   ]
  },
  {
   "cell_type": "markdown",
   "id": "3ee480d3",
   "metadata": {},
   "source": [
    "## Ontology Pruning\n",
    "\n",
    "The pruning function aims to remove unwanted ontology classes while preserving the relevant hierarchy. Specifically, for each class c to be removed, subsumption axioms will be created between the parents of and the children of c'. Then, apply_pruning will be used to apply the pruning."
   ]
  },
  {
   "cell_type": "code",
   "execution_count": 21,
   "id": "c76268ca",
   "metadata": {},
   "outputs": [
    {
     "name": "stdout",
     "output_type": "stream",
     "text": [
      "[SUCCESSFULLY] Adding the axiom SubClassOf(<http://purl.obolibrary.org/obo/DOID_12700> <http://purl.obolibrary.org/obo/DOID_0014667>) into the ontology.\n",
      "[SUCCESSFULLY] Adding the axiom SubClassOf(<http://purl.obolibrary.org/obo/DOID_3650> <http://purl.obolibrary.org/obo/DOID_0014667>) into the ontology.\n",
      "[SUCCESSFULLY] Adding the axiom SubClassOf(<http://purl.obolibrary.org/obo/DOID_0050013> <http://purl.obolibrary.org/obo/DOID_0014667>) into the ontology.\n",
      "[SUCCESSFULLY] Adding the axiom SubClassOf(<http://purl.obolibrary.org/obo/DOID_9969> <http://purl.obolibrary.org/obo/DOID_0014667>) into the ontology.\n",
      "[SUCCESSFULLY] Adding the axiom SubClassOf(<http://purl.obolibrary.org/obo/DOID_1920> <http://purl.obolibrary.org/obo/DOID_0014667>) into the ontology.\n",
      "[SUCCESSFULLY] Adding the axiom SubClassOf(<http://purl.obolibrary.org/obo/DOID_0050032> <http://purl.obolibrary.org/obo/DOID_0014667>) into the ontology.\n",
      "[SUCCESSFULLY] Adding the axiom SubClassOf(<http://purl.obolibrary.org/obo/DOID_374> <http://purl.obolibrary.org/obo/DOID_0014667>) into the ontology.\n",
      "[SUCCESSFULLY] Adding the axiom SubClassOf(<http://purl.obolibrary.org/obo/DOID_9120> <http://purl.obolibrary.org/obo/DOID_0014667>) into the ontology.\n"
     ]
    }
   ],
   "source": [
    "to_be_removed_class_iris = [\n",
    "    \"http://purl.obolibrary.org/obo/DOID_0060158\",\n",
    "    \"http://purl.obolibrary.org/obo/DOID_9969\"\n",
    "]\n",
    "doid.apply_pruning(to_be_removed_class_iris)\n",
    "doid.save_onto(\"/home/maialen/Documents/ontos/doid_pruned.owl\")  # save the pruned ontology locally\n"
   ]
  }
 ],
 "metadata": {
  "kernelspec": {
   "display_name": "Python 3 (ipykernel)",
   "language": "python",
   "name": "python3"
  },
  "language_info": {
   "codemirror_mode": {
    "name": "ipython",
    "version": 3
   },
   "file_extension": ".py",
   "mimetype": "text/x-python",
   "name": "python",
   "nbconvert_exporter": "python",
   "pygments_lexer": "ipython3",
   "version": "3.10.6"
  }
 },
 "nbformat": 4,
 "nbformat_minor": 5
}
